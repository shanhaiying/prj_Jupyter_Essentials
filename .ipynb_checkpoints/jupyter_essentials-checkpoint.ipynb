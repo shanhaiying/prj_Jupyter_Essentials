{
 "cells": [
  {
   "cell_type": "markdown",
   "metadata": {
    "toc": "true"
   },
   "source": [
    "# Table of Contents\n",
    " <p><div class=\"lev1\"><a href=\"#Essentials-of-Jupyter/IPython-Notebooks\">Essentials of Jupyter/IPython Notebooks</a></div><div class=\"lev2\"><a href=\"#Introduction\">Introduction</a></div><div class=\"lev3\"><a href=\"#What-is-the-Jupyter-Notebook?\">What is the Jupyter Notebook?</a></div><div class=\"lev3\"><a href=\"#Components\">Components</a></div><div class=\"lev3\"><a href=\"#Kernels\">Kernels</a></div><div class=\"lev3\"><a href=\"#Notebook-documents\">Notebook documents</a></div><div class=\"lev3\"><a href=\"#Installation-and-Upgrade\">Installation and Upgrade</a></div><div class=\"lev3\"><a href=\"#Access\">Access</a></div><div class=\"lev2\"><a href=\"#Notebook\">Notebook</a></div><div class=\"lev3\"><a href=\"#Modal-Editor\">Modal Editor</a></div><div class=\"lev4\"><a href=\"#Edit-mode\">Edit mode</a></div><div class=\"lev4\"><a href=\"#Command-mode\">Command mode</a></div><div class=\"lev3\"><a href=\"#Keyboard-Shortcuts-(Command-mode)\">Keyboard Shortcuts (Command mode)</a></div><div class=\"lev4\"><a href=\"#Notebooks\">Notebooks</a></div><div class=\"lev4\"><a href=\"#Navigation\">Navigation</a></div><div class=\"lev4\"><a href=\"#Cell-types\">Cell types</a></div><div class=\"lev4\"><a href=\"#Cell-creation\">Cell creation</a></div><div class=\"lev3\"><a href=\"#Keyboard-Shortcuts-(Edit-mode)\">Keyboard Shortcuts (Edit mode)</a></div><div class=\"lev4\"><a href=\"#Text\">Text</a></div><div class=\"lev4\"><a href=\"#Code\">Code</a></div><div class=\"lev3\"><a href=\"#Large-Outputs\">Large Outputs</a></div><div class=\"lev3\"><a href=\"#Raw-Cells\">Raw Cells</a></div><div class=\"lev3\"><a href=\"#Markdown-Cells\">Markdown Cells</a></div><div class=\"lev2\"><a href=\"#Kernel\">Kernel</a></div><div class=\"lev3\"><a href=\"#Cell-Magics\">Cell Magics</a></div><div class=\"lev4\"><a href=\"#Timing-code-execution\">Timing code execution</a></div><div class=\"lev4\"><a href=\"#Capturing-stdout/err\">Capturing <code>stdout/err</code></a></div><div class=\"lev4\"><a href=\"#Writing-contents-to-a-file\">Writing contents to a file</a></div><div class=\"lev4\"><a href=\"#Running-code-under-other-interpreters\">Running code under other interpreters</a></div><div class=\"lev3\"><a href=\"#Rich-Output\">Rich Output</a></div><div class=\"lev4\"><a href=\"#Display-imports\">Display imports</a></div><div class=\"lev4\"><a href=\"#Images\">Images</a></div><div class=\"lev4\"><a href=\"#HTML\">HTML</a></div><div class=\"lev4\"><a href=\"#JavaScript\">JavaScript</a></div><div class=\"lev4\"><a href=\"#LaTeX\">LaTeX</a></div><div class=\"lev4\"><a href=\"#Audio\">Audio</a></div><div class=\"lev4\"><a href=\"#Video\">Video</a></div><div class=\"lev4\"><a href=\"#External-sites\">External sites</a></div><div class=\"lev4\"><a href=\"#Links-to-local-files\">Links to local files</a></div><div class=\"lev4\"><a href=\"#Rich-output,-security,-and-nbviewer\">Rich output, security, and nbviewer</a></div><div class=\"lev3\"><a href=\"#Plotting-with-Matplotlib\">Plotting with Matplotlib</a></div><div class=\"lev2\"><a href=\"#Interactive-Widgets\">Interactive Widgets</a></div><div class=\"lev3\"><a href=\"#Using-interact\">Using interact</a></div><div class=\"lev2\"><a href=\"#Extensions\">Extensions</a></div>"
   ]
  },
  {
   "cell_type": "markdown",
   "metadata": {},
   "source": [
    "# Essentials of Jupyter/IPython Notebooks"
   ]
  },
  {
   "cell_type": "markdown",
   "metadata": {},
   "source": [
    "**References**:\n",
    "\n",
    "- [IPython Documentation (official)](http://ipython.readthedocs.org/en/stable/index.html)\n",
    "- [IPython Documentation (nbviewer)](http://nbviewer.jupyter.org/github/ipython/ipython/blob/3.x/examples/Index.ipynb)\n",
    "- [IPython Cookbook](https://github.com/ipython/ipython/wiki?path=Cookbook)\n",
    "- [Markdown Specification](http://daringfireball.net/projects/markdown/)\n",
    "- [MathJax TeX and LaTeX Support](http://docs.mathjax.org/en/latest/tex.html#tex-support)\n",
    "- [Jupyter Notebook Users Manual (Bryn Mawr College Computer Science)](http://jupyter.cs.brynmawr.edu/hub/dblank/public/Jupyter%20Notebook%20Users%20Manual.ipynb)\n",
    "- [Jupyter Notebook Extensions](https://github.com/ipython-contrib/IPython-notebook-extensions)"
   ]
  },
  {
   "cell_type": "markdown",
   "metadata": {},
   "source": [
    "## Introduction"
   ]
  },
  {
   "cell_type": "markdown",
   "metadata": {},
   "source": [
    "### What is the Jupyter Notebook?"
   ]
  },
  {
   "cell_type": "markdown",
   "metadata": {},
   "source": [
    "The Jupyter/IPython [Notebook](http://nbviewer.jupyter.org/github/ipython/ipython/blob/3.x/examples/Notebook/Index.ipynb) is a **web-based interactive computing system** that enables users to author documents that include:\n",
    "\n",
    "- Sections with different levels of headings\n",
    "- Narrative text (plain text, supporting the [Markdown](http://daringfireball.net/projects/markdown/) markup language, HTML, and $\\LaTeX$)\n",
    "- Live code, supporting multiple languages\n",
    "- Equations, inline and in environments, using $\\LaTeX$ syntax in Markdown and rendered in-browser by [MathJax](http://www.mathjax.org/)\n",
    "- Plots\n",
    "- HTML\n",
    "- Interactive widgets\n",
    "- Media (images, audio, and video)\n",
    "- Websites \n",
    "\n",
    "The notebook documents contain a **complete and self-contained record of a computation** that can be exported to various formats and shared easily with others using email, Dropbox, version control systems (like git/[GitHub](http://github.com/)), or  [nbviewer.ipython.org](http://nbviewer.ipython.org/)."
   ]
  },
  {
   "cell_type": "markdown",
   "metadata": {},
   "source": [
    "### Components\n",
    "\n",
    "The Jupyter Notebook combines three components:\n",
    "\n",
    "- **Notebook web application**: An interactive *web* application for writing and running code interactively and authoring notebook documents.\n",
    "\n",
    "- **Kernels**: Separate processes started by the notebook web application to run users' code in a given language and return output back to the notebook web application. Kernels also handle computations for interactive widgets, tab completion, and introspection.\n",
    "\n",
    "- **Notebook documents**: Self-contained documents that contain a representation of all content visible in the notebook web application, including inputs and outputs of the computations, narrative text, equations, images, and rich media representations of objects. Each notebook document has its own kernel."
   ]
  },
  {
   "cell_type": "markdown",
   "metadata": {},
   "source": [
    "### Kernels\n",
    "\n",
    "The Notebook allows code to be run in a range of different programming languages. For each notebook document that a user opens, the web application starts a kernel that runs the code for that notebook. Each kernel is capable of running code in a single programming language, including:\n",
    "\n",
    "- Python (https://github.com/ipython/ipython) (*default*)\n",
    "- R (https://github.com/takluyver/IRkernel)\n",
    "- Ruby (https://github.com/minrk/iruby)\n",
    "- Haskell (https://github.com/gibiansky/IHaskell)\n",
    "- node.js (https://gist.github.com/Carreau/4279371)\n",
    "- Scala (https://github.com/Bridgewater/scala-notebook)\n",
    "- Julia (https://github.com/JuliaLang/IJulia.jl)\n",
    "- Go (https://github.com/takluyver/igo)\n",
    "\n",
    "See [IPython/Jupyter kernels](https://github.com/ipython/ipython/wiki/IPython-kernels-for-other-languages) for a complete list of all available kernels and supported languages."
   ]
  },
  {
   "cell_type": "markdown",
   "metadata": {},
   "source": [
    "### Notebook documents\n",
    "\n",
    "Notebook documents are just files on the local filesystem with a **`.ipynb`** extension. Hence, they can be organized into folders and subfolders and shared with others.\n",
    "\n",
    "Notebooks consist of a linear sequence of cells. There are four basic cell types:\n",
    "\n",
    "- **Heading cells**: 6 levels of hierarchical organization and formatting\n",
    "- **Markdown cells**: Narrative text with embedded LaTeX equations\n",
    "- **Code cells**: Input and output of live code that is run in the kernel\n",
    "- **Raw cells**: Unformatted text that is included, without modification, when notebooks are converted to different formats using `nbconvert`\n",
    "\n",
    "Internally, notebook documents are [JSON](http://en.wikipedia.org/wiki/JSON) data with binary values [base64](http://en.wikipedia.org/wiki/Base64) encoded. This allows them to be **read and manipulated programmatically** by any programming language. Because JSON is a text format, notebook documents are version control friendly.\n",
    "\n",
    "Notebooks can be **exported** to different static formats including Python (`.py`), Markdown (`.md`),  reStructuredText (`.rst`), HTML (`.html`),  PDF via LaTeX (`.pdf`), and slide shows ([reveal.js](http://lab.hakim.se/reveal-js/#/)) using IPython's `nbconvert` utility.\n",
    "\n",
    "Any notebook document available from a public URL on or GitHub can be **shared** via [nbviewer](http://nbviewer.ipython.org/). This service loads the notebook document from the URL and renders it as a static web page. The resulting web page may be shared with others and seen without requiring a Python installation."
   ]
  },
  {
   "cell_type": "markdown",
   "metadata": {},
   "source": [
    "### Installation and Upgrade\n",
    "\n",
    "The easiest way to have Jupyter and Python on your system is by installing [Anaconda](https://www.continuum.io/downloads). \n",
    "\n",
    "Anaconda is a completely free Python distribution that conveniently installs Python, the Jupyter Notebook, and other commonly used packages for science, math, engineering, and data analysis.\n",
    "\n",
    "If disk space is an issue, [Miniconda](http://conda.pydata.org/miniconda.html) can be installed instead. Miniconda contains only conda and Python. Individual packages can be installed as needed through the `conda` command.\n",
    "\n",
    "A Jupyter installation can be upgraded using ` `pip install -U jupyter` ` (if using pip) or `conda update jupyter` (if using Anaconda)."
   ]
  },
  {
   "cell_type": "markdown",
   "metadata": {},
   "source": [
    "### Access\n",
    "\n",
    "Assuming Anaconda was installed in the \"C:\\Python\" directory, the most convenient ways to run the Jupyter Notebook environment are:\n",
    "\n",
    "- Anaconda Launcher (*shortcut*):\n",
    "\n",
    "\n",
    "\n",
    "    `C:\\Python\\node-webkit\\nw.exe \"C:\\Python/node-webkit/launcher\"`\n",
    "\n",
    "---\n",
    "\n",
    "- Notebook (*shortcut*):\n",
    "\n",
    "\n",
    "\n",
    "    `C:\\Python\\python.exe \"C:\\Python\\Scripts/jupyter-script.py\" notebook`\n",
    "\n",
    "---\n",
    "\n",
    "- Terminal (Mac/Linux) or Command Prompt Windows:\n",
    "\n",
    "\n",
    "\n",
    "    `jupyter notebook`"
   ]
  },
  {
   "cell_type": "markdown",
   "metadata": {},
   "source": [
    "## Notebook"
   ]
  },
  {
   "cell_type": "markdown",
   "metadata": {},
   "source": [
    "### Modal Editor"
   ]
  },
  {
   "cell_type": "markdown",
   "metadata": {},
   "source": [
    "#### Edit mode\n",
    "\n",
    "- *green* cell border\n",
    "- To enable, select a cell and press <kbd>enter</kbd>, or double-click *on* a cell, or click *on* a cell's editor area"
   ]
  },
  {
   "cell_type": "markdown",
   "metadata": {},
   "source": [
    "#### Command mode\n",
    "\n",
    "- *grey* cell border\n",
    "- To exit Edit mode and enable Command mode, press <kbd>esc</kbd> or <kbd>ctrl+m</kbd> or use the mouse to click *outside* a cell's editor area."
   ]
  },
  {
   "cell_type": "markdown",
   "metadata": {},
   "source": [
    "### Keyboard Shortcuts (Command mode)\n",
    "\n",
    "The following are the most useful keyboard shortcuts in *Command mode*:"
   ]
  },
  {
   "cell_type": "markdown",
   "metadata": {},
   "source": [
    "#### Notebooks\n",
    "\n",
    "Action | Command\n",
    "------ | -------\n",
    "open the command palette | <kbd>ctrl+shift+P</kbd>\n",
    "show all keyboard shortcuts | <kbd>h</kbd>\n",
    "find and replace text | <kbd>f</kbd>\n",
    "save Notebook | <kbd>s</kbd>\n",
    "toggle output | <kbd>o</kbd>"
   ]
  },
  {
   "cell_type": "markdown",
   "metadata": {},
   "source": [
    "#### Navigation\n",
    "\n",
    "Action | Command\n",
    "------ | -------\n",
    "scroll Notebook up | <kbd>shift+space</kbd>\n",
    "scroll Notebook down | <kbd>space</kbd>\n",
    "select cell above | <kbd>pgup</kbd> / <kbd>k</kbd>\n",
    "select cell below | <kbd>pgdn</kbd> / <kbd>j</kbd>"
   ]
  },
  {
   "cell_type": "markdown",
   "metadata": {},
   "source": [
    "#### Cell types\n",
    "\n",
    "Action | Command\n",
    "------ | \n",
    "Raw cell | <kbd>r</kbd>\n",
    "Code cell | <kbd>y</kbd>\n",
    "Markdown cell | <kbd>m</kbd> + <kbd>1</kbd>...<kbd>6</kbd> (Headings) "
   ]
  },
  {
   "cell_type": "markdown",
   "metadata": {},
   "source": [
    "#### Cell creation\n",
    "\n",
    "Action | Command\n",
    "------ | -------\n",
    "insert new cell above | <kbd>a</kbd>\n",
    "insert new cell below | <kbd>b</kbd>\n",
    "cut cell | <kbd>x</kbd>\n",
    "copy cell | <kbd>c</kbd>\n",
    "paste cell below | <kbd>v</kbd>\n",
    "delete selected cell | <kbd>d d</kbd>\n",
    "undo cell deletion | <kbd>z</kbd>\n",
    "merge cells (current + below) | <kbd>shift+m</kbd>"
   ]
  },
  {
   "cell_type": "markdown",
   "metadata": {},
   "source": [
    "### Keyboard Shortcuts (Edit mode)\n",
    "\n",
    "The following are the most useful keyboard shortcuts in *Edit mode*:"
   ]
  },
  {
   "cell_type": "markdown",
   "metadata": {},
   "source": [
    "#### Text\n",
    "\n",
    "Action | Command\n",
    "------ | -------\n",
    "code completion / indent | <kbd>tab</kbd>\n",
    "toogle comment | <kbd>alt+c</kbd>\n",
    "indent | <kbd>ctrl+]</kbd>\n",
    "dedent | <kbd>ctrl+[</kbd>\n",
    "delete word after | <kbd>ctrl+delete</kbd>\n",
    "delete word before | <kbd>ctrl+backspace</kbd>\n",
    "select all | <kbd>ctrl+a</kbd>\n",
    "undo   | <kbd>ctrl+z</kbd>\n",
    "redo   | <kbd>ctrl+y</kbd>\n",
    "split cell | <kbd>ctrl+shift-</kbd>"
   ]
  },
  {
   "cell_type": "markdown",
   "metadata": {},
   "source": [
    "#### Code\n",
    "\n",
    "Action | Command\n",
    "------ | -------\n",
    "run current cell and enter Command mode | <kbd>ctrl+enter</kbd>\n",
    "run current cell and move to the next | <kbd>shift+enter</kbd>\n",
    "run current cell and insert new cell below | <kbd>alt+enter</kbd>"
   ]
  },
  {
   "cell_type": "markdown",
   "metadata": {},
   "source": [
    "### Large Outputs\n",
    "\n",
    "To better handle large outputs, the output area can be collapsed. After running a cell, single- or double- click on the active area to the left of the output. If the output is too large, beyond a certain point, output will scroll automatically."
   ]
  },
  {
   "cell_type": "code",
   "execution_count": 1,
   "metadata": {
    "collapsed": false,
    "scrolled": true
   },
   "outputs": [
    {
     "name": "stdout",
     "output_type": "stream",
     "text": [
      "0\n",
      "1\n",
      "2\n",
      "3\n",
      "4\n",
      "5\n",
      "6\n",
      "7\n",
      "8\n",
      "9\n",
      "10\n",
      "11\n",
      "12\n",
      "13\n",
      "14\n",
      "15\n",
      "16\n",
      "17\n",
      "18\n",
      "19\n",
      "20\n",
      "21\n",
      "22\n",
      "23\n",
      "24\n"
     ]
    }
   ],
   "source": [
    "for i in range(25):\n",
    "    print(i)"
   ]
  },
  {
   "cell_type": "markdown",
   "metadata": {},
   "source": [
    "### Raw Cells\n",
    "\n",
    "Raw cells have no input-output distinction and cannot be rendered into anything. When running all Notebook cells, raw  cells will remain exactly as is and the Notebook will automatically select the cell directly below it. Raw cells have no style options, no options to bold, italicize, or enlarge any text or characters in the cell.\n",
    "\n",
    "Because they have no rendered form, raw cells can be used to include text or code not meant to be formatted or executed. This is useful, for example, to illustrate Markdown or code syntax in unrendered form without showing any output."
   ]
  },
  {
   "cell_type": "raw",
   "metadata": {},
   "source": [
    "This is a raw cell\n",
    "```python\n",
    "def f(x):\n",
    "    return x**2\n",
    "```"
   ]
  },
  {
   "cell_type": "markdown",
   "metadata": {},
   "source": [
    "### Markdown Cells\n",
    "\n",
    "Text can be added to Jupyter Notebooks using Markdown cells. [Markdown](http://daringfireball.net/projects/markdown/) is a popular markup language that is a superset of HTML. Markdown does not automatically hard-wrap text in paragraphs. If this is required, insert paragraph breaks by ending the line with two spaces and pressing Enter."
   ]
  },
  {
   "cell_type": "markdown",
   "metadata": {},
   "source": [
    "- **Add headings**"
   ]
  },
  {
   "cell_type": "raw",
   "metadata": {},
   "source": [
    "                <pre>\n",
    "                # Heading 1\n",
    "                # Heading 2\n",
    "                ## Heading 2.1\n",
    "                ### Heading 2.1.1\n",
    "                #### Heading 2.1.1.1\n",
    "                </pre>"
   ]
  },
  {
   "cell_type": "markdown",
   "metadata": {},
   "source": [
    "- **Format text**\n",
    "\n",
    "    *italics*  \n",
    "    **bold**  \n",
    "    ***both***  \n",
    "    ~~strikethrough~~  \n",
    "    <kbd>boxed</kbd>   \n",
    "    <pre>```raw ----```</pre>"
   ]
  },
  {
   "cell_type": "raw",
   "metadata": {},
   "source": [
    "                <pre>\n",
    "                *italics*  \n",
    "                **bold**  \n",
    "                ***both***  \n",
    "                ~~strikethrough~~  \n",
    "                <[kbd]>boxed<[/kbd]> (without the [])\n",
    "                <[pre]>```raw ----```<[/pre]> (without the [])\n",
    "                </pre>"
   ]
  },
  {
   "cell_type": "markdown",
   "metadata": {},
   "source": [
    "- **Build nested itemized lists**\n",
    "\n",
    "\n",
    "- One\n",
    "    - Item\n",
    "    - Item\n",
    "        - Subitem\n",
    "    - Item\n",
    "- Two"
   ]
  },
  {
   "cell_type": "raw",
   "metadata": {},
   "source": [
    "                <pre>\n",
    "               - One\n",
    "                   - Item\n",
    "                   - Item\n",
    "                       - Subitem\n",
    "                   - Item\n",
    "               - Two\n",
    "               </pre>"
   ]
  },
  {
   "cell_type": "markdown",
   "metadata": {},
   "source": [
    "- **Build nested enumerated lists**\n",
    "\n",
    "\n",
    "1. One\n",
    "    1. Item A\n",
    "    1. Item B\n",
    "2. Two"
   ]
  },
  {
   "cell_type": "raw",
   "metadata": {},
   "source": [
    "            <pre>\n",
    "            1. One\n",
    "                1. Item A\n",
    "                1. Item B\n",
    "            2. Two\n",
    "            </pre>"
   ]
  },
  {
   "cell_type": "markdown",
   "metadata": {},
   "source": [
    "- **Add horizontal rules**\n",
    "\n",
    "    ----"
   ]
  },
  {
   "cell_type": "raw",
   "metadata": {},
   "source": [
    "                <pre>\n",
    "                ----\n",
    "                </pre>"
   ]
  },
  {
   "cell_type": "markdown",
   "metadata": {},
   "source": [
    "- **Add blockquotes**\n",
    "    \n",
    "> This is a\n",
    "> blockquote\n",
    "\n",
    "...\n",
    "\n",
    "> This is a\n",
    ">> nested\n",
    ">> blockquote"
   ]
  },
  {
   "cell_type": "raw",
   "metadata": {},
   "source": [
    "                <pre>\n",
    "                > This is a\n",
    "                > blockquote\n",
    "\n",
    "                ...\n",
    "\n",
    "                > This is a\n",
    "                >> nested\n",
    "                >> blockquote\n",
    "                </pre>"
   ]
  },
  {
   "cell_type": "markdown",
   "metadata": {},
   "source": [
    "- **Add inline code:**\n",
    "\n",
    "    Inline `code` has `back-ticks` around it."
   ]
  },
  {
   "cell_type": "raw",
   "metadata": {},
   "source": [
    "                <pre>\n",
    "                Inline `code` has `back-ticks` around it.\n",
    "                </pre>"
   ]
  },
  {
   "cell_type": "markdown",
   "metadata": {},
   "source": [
    "- **Add Github flavored markdown (GFM) code blocks meant for illustration instead of execution**\n",
    "    \n",
    "    Github flavored markdown allows the use of triple backticks (`  ```language...`) to create fenced code blocks that support syntax highlighting:\n",
    "\n",
    "    ```python\n",
    "    # Python\n",
    "    def f(x):\n",
    "        \"\"\"Docstring\"\"\"\n",
    "        return x ** 2\n",
    "    ```\n",
    "    \n",
    "    ```java\n",
    "    //Java\n",
    "    public class HelloWorld {\n",
    "        public static void main(String[] args) {\n",
    "            // print to the terminal window\n",
    "            System.out.println(\"Hello, World\");\n",
    "        }\n",
    "    }\n",
    "    ```\n",
    "\n",
    "    ```javascript\n",
    "    //Javascript\n",
    "    console.log(\"Hello World\")\n",
    "    ```"
   ]
  },
  {
   "cell_type": "raw",
   "metadata": {},
   "source": [
    "                <pre>\n",
    "                ```python\n",
    "                # Python\n",
    "                def f(x):\n",
    "                    \"\"\"Docstring\"\"\"\n",
    "                    return x ** 2\n",
    "                ```\n",
    "                </pre>"
   ]
  },
  {
   "cell_type": "markdown",
   "metadata": {},
   "source": [
    "- **Add mathematical (LaTeX) equations**\n",
    "\n",
    "    inline equations such as $e^{i\\pi} + 1 = 0$ and displayed equations such as:\n",
    "    $$e^x= \\sum_{i=0}^\\infty \\frac{1}{i!}x^i$$"
   ]
  },
  {
   "cell_type": "raw",
   "metadata": {},
   "source": [
    "                <pre>\n",
    "                inline equations such as $e^{i\\pi} + 1 = 0$ and displayed equations such as:\n",
    "                $$e^x= \\sum_{i=0}^\\infty \\frac{1}{i!}x^i$$\n",
    "                </pre>"
   ]
  },
  {
   "cell_type": "markdown",
   "metadata": {},
   "source": [
    "- **Add tables**\n",
    "\n",
    "Tables are part of GFM and support inline Markdown.\n",
    "\n",
    "Function | Description\n",
    "-------- | -----------\n",
    "`abs(x)` | Return the absolute value of `x`\n",
    "         | `...`\n",
    "`len(s)` | Return the length of an object. "
   ]
  },
  {
   "cell_type": "raw",
   "metadata": {},
   "source": [
    "                <pre>\n",
    "                Function | Description\n",
    "                -------- | -----------\n",
    "                `abs(x)` | Return the absolute value of `x`\n",
    "                         | ...\n",
    "                `len(s)` | Return the length of an object.\n",
    "                </pre>"
   ]
  },
  {
   "cell_type": "markdown",
   "metadata": {},
   "source": [
    "Colons can be used to align columns:"
   ]
  },
  {
   "cell_type": "markdown",
   "metadata": {},
   "source": [
    "   | left-aligned | centered | right-alined\n",
    "-- | ------------ | :------: | -----------:\n",
    "A  | `$1,000` | `$1,000` | `$1,000`\n",
    "B  | `$100` | `$100` | `$100`\n",
    "C  | `$10` | `$10` | `$10`\n",
    "D  | `$1` | `$1` | `$1`"
   ]
  },
  {
   "cell_type": "raw",
   "metadata": {},
   "source": [
    "                <pre>\n",
    "                   | left-aligned | centered | right-alined\n",
    "                -- | ------------ | :------: | -----------:\n",
    "                A  | `$1,000` | `$1,000` | `$1,000`\n",
    "                B  | `$100` | `$100` | `$100`\n",
    "                C  | `$10` | `$10` | `$10`\n",
    "                D  | `$1` | `$1` | `$1`\n",
    "                </pre>"
   ]
  },
  {
   "cell_type": "markdown",
   "metadata": {},
   "source": [
    "- **Add links**\n",
    "\n",
    "    - external: [IPython's website](http://ipython.org)\n",
    "    - external with mouse-over titles: [IPython's website](http://ipython.org \"Homepage\")\n",
    "    - reference: This is an [external reference link] [reflink]. It was defined in a separate [line][1].\n",
    "    - internal to Notebook headings: e.g., see [Markdown Cells](#Markdown-Cells) for more information...\n",
    "    - internal to Notebook files: [xf_test_jupyter](input/xf_test_jupyter.ipynb)\n",
    "    - internal to local files: <img src=\"images/python_logo.png\\\" />\n",
    "\n",
    "[reflink]: http://ipython.org \"Homepage\"\n",
    "[1]: http://ipython.org \"Numbers can also be used as reference\""
   ]
  },
  {
   "cell_type": "raw",
   "metadata": {},
   "source": [
    "            <pre>\n",
    "            - external: [IPython's website](http://ipython.org)\n",
    "                - external with mouse-over titles: [IPython's website](http://ipython.org \"Homepage\")\n",
    "                - reference: This is an [external reference link] [reflink]. It was defined in a separate [line][1].\n",
    "                - internal to Notebook headings: e.g., see [Markdown Cells](#Markdown-Cells) for more information...\n",
    "                - internal to Notebook files: [xf_test_jupyter](input/xf_test_jupyter.ipynb)\n",
    "                - internal to local files: <img src=\"images/python_logo.png\\\" />\n",
    "\n",
    "            [reflink]: http://ipython.org \"Homepage\"\n",
    "            [1]: http://ipython.org \"Numbers can also be used as reference\"\n",
    "            </pre>"
   ]
  },
  {
   "cell_type": "markdown",
   "metadata": {},
   "source": [
    "## Kernel\n",
    "\n",
    "IPython provides extensions to the Python programming language that make working interactively convenient and efficient. These extensions are implemented in the IPython [Kernel](http://nbviewer.jupyter.org/github/ipython/ipython/blob/3.x/examples/IPython%20Kernel/Index.ipynb)\n",
    " and are available in all of the IPython Frontends (Notebook, Terminal, Console and Qt Console) when running this kernel."
   ]
  },
  {
   "cell_type": "markdown",
   "metadata": {},
   "source": [
    "### Cell Magics\n",
    "\n",
    "IPython has a system of commands called **magics** which provide a *mini command language*. Such a language is  orthogonal to the syntax of Python and is extensible by the user with new commands. Magics are meant to be typed interactively so they use command-line conventions, such as using *whitespace* for separating arguments, *dashes* for options, and other conventions typical of a command-line environment.\n",
    "\n",
    "Magics come in two kinds:\n",
    "\n",
    "- **Line magics:** these are commands prepended by one **`%`** character and whose arguments only extend to the end of the current line.\n",
    "\n",
    "- **Cell magics:** these use two percent characters as a marker (**`%%`**), and they receive as argument *both* the current line where they are declared and the whole body of the cell. Note that cell magics can *only* be used as the first line in a cell, and as a general principle they can't be 'stacked' (i.e. you can only use one cell magic per cell). However, there are a few of them that can be stacked because of how they operate."
   ]
  },
  {
   "cell_type": "markdown",
   "metadata": {},
   "source": [
    "Use **`%lsmagic`** to list all available magics, both line and cell magics currently defined:"
   ]
  },
  {
   "cell_type": "code",
   "execution_count": 2,
   "metadata": {
    "collapsed": false
   },
   "outputs": [
    {
     "data": {
      "application/json": {
       "cell": {
        "!": "OSMagics",
        "HTML": "Other",
        "SVG": "Other",
        "bash": "Other",
        "capture": "ExecutionMagics",
        "cmd": "Other",
        "debug": "ExecutionMagics",
        "file": "Other",
        "html": "DisplayMagics",
        "javascript": "DisplayMagics",
        "latex": "DisplayMagics",
        "perl": "Other",
        "prun": "ExecutionMagics",
        "pypy": "Other",
        "python": "Other",
        "python2": "Other",
        "python3": "Other",
        "ruby": "Other",
        "script": "ScriptMagics",
        "sh": "Other",
        "svg": "DisplayMagics",
        "sx": "OSMagics",
        "system": "OSMagics",
        "time": "ExecutionMagics",
        "timeit": "ExecutionMagics",
        "writefile": "OSMagics"
       },
       "line": {
        "alias": "OSMagics",
        "alias_magic": "BasicMagics",
        "autocall": "AutoMagics",
        "automagic": "AutoMagics",
        "autosave": "KernelMagics",
        "bookmark": "OSMagics",
        "cd": "OSMagics",
        "clear": "KernelMagics",
        "cls": "KernelMagics",
        "colors": "BasicMagics",
        "config": "ConfigMagics",
        "connect_info": "KernelMagics",
        "copy": "Other",
        "ddir": "Other",
        "debug": "ExecutionMagics",
        "dhist": "OSMagics",
        "dirs": "OSMagics",
        "doctest_mode": "BasicMagics",
        "echo": "Other",
        "ed": "Other",
        "edit": "KernelMagics",
        "env": "OSMagics",
        "gui": "BasicMagics",
        "hist": "Other",
        "history": "HistoryMagics",
        "install_default_config": "DeprecatedMagics",
        "install_ext": "ExtensionMagics",
        "install_profiles": "DeprecatedMagics",
        "killbgscripts": "ScriptMagics",
        "ldir": "Other",
        "less": "KernelMagics",
        "load": "CodeMagics",
        "load_ext": "ExtensionMagics",
        "loadpy": "CodeMagics",
        "logoff": "LoggingMagics",
        "logon": "LoggingMagics",
        "logstart": "LoggingMagics",
        "logstate": "LoggingMagics",
        "logstop": "LoggingMagics",
        "ls": "Other",
        "lsmagic": "BasicMagics",
        "macro": "ExecutionMagics",
        "magic": "BasicMagics",
        "matplotlib": "PylabMagics",
        "mkdir": "Other",
        "more": "KernelMagics",
        "notebook": "BasicMagics",
        "page": "BasicMagics",
        "pastebin": "CodeMagics",
        "pdb": "ExecutionMagics",
        "pdef": "NamespaceMagics",
        "pdoc": "NamespaceMagics",
        "pfile": "NamespaceMagics",
        "pinfo": "NamespaceMagics",
        "pinfo2": "NamespaceMagics",
        "popd": "OSMagics",
        "pprint": "BasicMagics",
        "precision": "BasicMagics",
        "profile": "BasicMagics",
        "prun": "ExecutionMagics",
        "psearch": "NamespaceMagics",
        "psource": "NamespaceMagics",
        "pushd": "OSMagics",
        "pwd": "OSMagics",
        "pycat": "OSMagics",
        "pylab": "PylabMagics",
        "qtconsole": "KernelMagics",
        "quickref": "BasicMagics",
        "recall": "HistoryMagics",
        "rehashx": "OSMagics",
        "reload_ext": "ExtensionMagics",
        "ren": "Other",
        "rep": "Other",
        "rerun": "HistoryMagics",
        "reset": "NamespaceMagics",
        "reset_selective": "NamespaceMagics",
        "rmdir": "Other",
        "run": "ExecutionMagics",
        "save": "CodeMagics",
        "sc": "OSMagics",
        "set_env": "OSMagics",
        "store": "StoreMagics",
        "sx": "OSMagics",
        "system": "OSMagics",
        "tb": "ExecutionMagics",
        "time": "ExecutionMagics",
        "timeit": "ExecutionMagics",
        "unalias": "OSMagics",
        "unload_ext": "ExtensionMagics",
        "who": "NamespaceMagics",
        "who_ls": "NamespaceMagics",
        "whos": "NamespaceMagics",
        "xdel": "NamespaceMagics",
        "xmode": "BasicMagics"
       }
      },
      "text/plain": [
       "Available line magics:\n",
       "%alias  %alias_magic  %autocall  %automagic  %autosave  %bookmark  %cd  %clear  %cls  %colors  %config  %connect_info  %copy  %ddir  %debug  %dhist  %dirs  %doctest_mode  %echo  %ed  %edit  %env  %gui  %hist  %history  %install_default_config  %install_ext  %install_profiles  %killbgscripts  %ldir  %less  %load  %load_ext  %loadpy  %logoff  %logon  %logstart  %logstate  %logstop  %ls  %lsmagic  %macro  %magic  %matplotlib  %mkdir  %more  %notebook  %page  %pastebin  %pdb  %pdef  %pdoc  %pfile  %pinfo  %pinfo2  %popd  %pprint  %precision  %profile  %prun  %psearch  %psource  %pushd  %pwd  %pycat  %pylab  %qtconsole  %quickref  %recall  %rehashx  %reload_ext  %ren  %rep  %rerun  %reset  %reset_selective  %rmdir  %run  %save  %sc  %set_env  %store  %sx  %system  %tb  %time  %timeit  %unalias  %unload_ext  %who  %who_ls  %whos  %xdel  %xmode\n",
       "\n",
       "Available cell magics:\n",
       "%%!  %%HTML  %%SVG  %%bash  %%capture  %%cmd  %%debug  %%file  %%html  %%javascript  %%latex  %%perl  %%prun  %%pypy  %%python  %%python2  %%python3  %%ruby  %%script  %%sh  %%svg  %%sx  %%system  %%time  %%timeit  %%writefile\n",
       "\n",
       "Automagic is ON, % prefix IS NOT needed for line magics."
      ]
     },
     "execution_count": 2,
     "metadata": {},
     "output_type": "execute_result"
    }
   ],
   "source": [
    "%lsmagic"
   ]
  },
  {
   "cell_type": "markdown",
   "metadata": {},
   "source": [
    "First, import some necessary modules:"
   ]
  },
  {
   "cell_type": "code",
   "execution_count": 3,
   "metadata": {
    "collapsed": true
   },
   "outputs": [],
   "source": [
    "%matplotlib inline\n",
    "import numpy as np\n",
    "import matplotlib.pyplot as plt"
   ]
  },
  {
   "cell_type": "markdown",
   "metadata": {},
   "source": [
    "#### Timing code execution\n",
    "\n",
    "Use **`%timeit`** or **`%%timeit`** to time the execution of code. They exist both in line and in cell form."
   ]
  },
  {
   "cell_type": "code",
   "execution_count": 4,
   "metadata": {
    "collapsed": false
   },
   "outputs": [
    {
     "name": "stdout",
     "output_type": "stream",
     "text": [
      "The slowest run took 32.86 times longer than the fastest. This could mean that an intermediate result is being cached.\n",
      "1 loop, best of 3: 6.19 ms per loop\n"
     ]
    }
   ],
   "source": [
    "%timeit np.linalg.eigvals(np.random.rand(100,100))"
   ]
  },
  {
   "cell_type": "code",
   "execution_count": 5,
   "metadata": {
    "collapsed": false
   },
   "outputs": [
    {
     "name": "stdout",
     "output_type": "stream",
     "text": [
      "100 loops, best of 3: 8.42 ms per loop\n"
     ]
    }
   ],
   "source": [
    "%%timeit a = np.random.rand(100, 100)\n",
    "np.linalg.eigvals(a)"
   ]
  },
  {
   "cell_type": "markdown",
   "metadata": {},
   "source": [
    "#### Capturing `stdout/err`\n",
    "\n",
    "Use **`%%capture`** to capture the `stdout/err` of any block of python code, either to discard it or to store it in a variable for later use."
   ]
  },
  {
   "cell_type": "code",
   "execution_count": 6,
   "metadata": {
    "collapsed": false
   },
   "outputs": [],
   "source": [
    "%%capture capt\n",
    "L = [1, 2, 3]\n",
    "print(L)"
   ]
  },
  {
   "cell_type": "code",
   "execution_count": 7,
   "metadata": {
    "collapsed": false
   },
   "outputs": [
    {
     "data": {
      "text/plain": [
       "'[1, 2, 3]\\n'"
      ]
     },
     "execution_count": 7,
     "metadata": {},
     "output_type": "execute_result"
    }
   ],
   "source": [
    "capt.stdout"
   ]
  },
  {
   "cell_type": "code",
   "execution_count": 8,
   "metadata": {
    "collapsed": false
   },
   "outputs": [
    {
     "name": "stdout",
     "output_type": "stream",
     "text": [
      "[1, 2, 3]\n"
     ]
    }
   ],
   "source": [
    "capt.show()"
   ]
  },
  {
   "cell_type": "markdown",
   "metadata": {},
   "source": [
    "#### Writing contents to a file\n",
    "\n",
    "- Use **`%%writefile`** to write cell contents as a named file.\n",
    "- Use **`%run`** to run the file created with `%%writefile`."
   ]
  },
  {
   "cell_type": "code",
   "execution_count": 9,
   "metadata": {
    "collapsed": false
   },
   "outputs": [
    {
     "name": "stdout",
     "output_type": "stream",
     "text": [
      "Overwriting output/xf_test_writefile_magic.py\n"
     ]
    }
   ],
   "source": [
    "%%writefile \"output/xf_test_writefile_magic.py\"\n",
    "print(\"Hello world\")"
   ]
  },
  {
   "cell_type": "code",
   "execution_count": 10,
   "metadata": {
    "collapsed": false
   },
   "outputs": [
    {
     "name": "stdout",
     "output_type": "stream",
     "text": [
      "Hello world\n"
     ]
    }
   ],
   "source": [
    "%run \"output/xf_test_writefile_magic.py\""
   ]
  },
  {
   "cell_type": "markdown",
   "metadata": {},
   "source": [
    "#### Running code under other interpreters\n",
    "\n",
    "- Use **`%%script`** to run a cell in a subprocess of any interpreter in your system, such as bash, ruby, perl, R, etc.\n",
    "- Use `--out var_name` and `--err var_name` to capture the `stdout/err` from these processes into Python variables."
   ]
  },
  {
   "cell_type": "code",
   "execution_count": 11,
   "metadata": {
    "collapsed": true
   },
   "outputs": [],
   "source": [
    "%%script R --no-save --out output --err error\n",
    "a <- 2\n",
    "a * 4"
   ]
  },
  {
   "cell_type": "code",
   "execution_count": 12,
   "metadata": {
    "collapsed": false
   },
   "outputs": [
    {
     "name": "stdout",
     "output_type": "stream",
     "text": [
      "\r\n",
      "R version 3.1.3 (2015-03-09) -- \"Smooth Sidewalk\"\r\n",
      "Copyright (C) 2015 The R Foundation for Statistical Computing\r\n",
      "Platform: x86_64-w64-mingw32/x64 (64-bit)\r\n",
      "\r\n",
      "R is free software and comes with ABSOLUTELY NO WARRANTY.\r\n",
      "You are welcome to redistribute it under certain conditions.\r\n",
      "Type 'license()' or 'licence()' for distribution details.\r\n",
      "\r\n",
      "  Natural language support but running in an English locale\r\n",
      "\r\n",
      "R is a collaborative project with many contributors.\r\n",
      "Type 'contributors()' for more information and\r\n",
      "'citation()' on how to cite R or R packages in publications.\r\n",
      "\r\n",
      "Type 'demo()' for some demos, 'help()' for on-line help, or\r\n",
      "'help.start()' for an HTML browser interface to help.\r\n",
      "Type 'q()' to quit R.\r\n",
      "\r\n",
      "> a <- 2\r\n",
      "> a * 4\r\n",
      "[1] 8\r\n",
      "> \r\n",
      "\n"
     ]
    }
   ],
   "source": [
    "print(output)"
   ]
  },
  {
   "cell_type": "code",
   "execution_count": 13,
   "metadata": {
    "collapsed": false
   },
   "outputs": [
    {
     "name": "stdout",
     "output_type": "stream",
     "text": [
      "\n"
     ]
    }
   ],
   "source": [
    "print(error)"
   ]
  },
  {
   "cell_type": "markdown",
   "metadata": {},
   "source": [
    "### Rich Output\n",
    "\n",
    "In Python, objects can declare their textual representation using the `__repr__` method. IPython allows objects to declare other, rich representations including:\n",
    "\n",
    "- HTML\n",
    "- JSON\n",
    "- PNG\n",
    "- JPEG\n",
    "- SVG\n",
    "- LaTeX\n",
    "\n",
    "A single object can declare some or all of these representations; all are handled by IPython's `display` system, which can be used to incorporate a broad range of content into IPython notebooks."
   ]
  },
  {
   "cell_type": "markdown",
   "metadata": {},
   "source": [
    "#### Display imports\n",
    "\n",
    "The **`display`** function is a general purpose tool for displaying different representations of objects. It functions as `print` for these rich representations."
   ]
  },
  {
   "cell_type": "code",
   "execution_count": 14,
   "metadata": {
    "collapsed": false
   },
   "outputs": [],
   "source": [
    "from IPython.display import display"
   ]
  },
  {
   "cell_type": "markdown",
   "metadata": {
    "collapsed": true
   },
   "source": [
    "There are also specific functions to display a particular representation:"
   ]
  },
  {
   "cell_type": "code",
   "execution_count": 15,
   "metadata": {
    "collapsed": true
   },
   "outputs": [],
   "source": [
    "from IPython.display import (\n",
    "    display_pretty,\n",
    "    display_html,\n",
    "    display_json,\n",
    "    display_png,\n",
    "    display_jpeg,\n",
    "    display_svg,\n",
    "    display_latex,\n",
    ")"
   ]
  },
  {
   "cell_type": "markdown",
   "metadata": {},
   "source": [
    "#### Images\n",
    "\n",
    "Use the **`Image`** class to work with images (JPEG, PNG). By default, image data is embedded in the Notebook document so that the images can be viewed offline. However it is also possible to tell the `Image` class to only store a link to the image."
   ]
  },
  {
   "cell_type": "code",
   "execution_count": 16,
   "metadata": {
    "collapsed": true
   },
   "outputs": [],
   "source": [
    "from IPython.display import Image"
   ]
  },
  {
   "cell_type": "code",
   "execution_count": 17,
   "metadata": {
    "collapsed": false
   },
   "outputs": [
    {
     "data": {
      "image/png": "[encoded data removed]",
      "text/plain": [
       "<IPython.core.display.Image object>"
      ]
     },
     "metadata": {},
     "output_type": "display_data"
    }
   ],
   "source": [
    "img = Image(filename='images/ipython_logo.png')\n",
    "display(img)  # also, simply img"
   ]
  },
  {
   "cell_type": "markdown",
   "metadata": {},
   "source": [
    "SVG images are also supported out of the box."
   ]
  },
  {
   "cell_type": "code",
   "execution_count": 18,
   "metadata": {
    "collapsed": false
   },
   "outputs": [
    {
     "data": {
      "image/svg+xml": [
       "<svg height=\"115.02pt\" id=\"svg2\" inkscape:version=\"0.43\" sodipodi:docbase=\"/home/sdeibel\" sodipodi:docname=\"logo-python-generic.svg\" sodipodi:version=\"0.32\" version=\"1.0\" width=\"388.84pt\" xmlns=\"http://www.w3.org/2000/svg\" xmlns:cc=\"http://web.resource.org/cc/\" xmlns:dc=\"http://purl.org/dc/elements/1.1/\" xmlns:inkscape=\"http://www.inkscape.org/namespaces/inkscape\" xmlns:rdf=\"http://www.w3.org/1999/02/22-rdf-syntax-ns#\" xmlns:sodipodi=\"http://inkscape.sourceforge.net/DTD/sodipodi-0.dtd\" xmlns:svg=\"http://www.w3.org/2000/svg\" xmlns:xlink=\"http://www.w3.org/1999/xlink\">\n",
       "  <metadata id=\"metadata2193\">\n",
       "    <rdf:RDF>\n",
       "      <cc:Work rdf:about=\"\">\n",
       "        <dc:format>image/svg+xml</dc:format>\n",
       "        <dc:type rdf:resource=\"http://purl.org/dc/dcmitype/StillImage\"/>\n",
       "      </cc:Work>\n",
       "    </rdf:RDF>\n",
       "  </metadata>\n",
       "  <sodipodi:namedview bordercolor=\"#666666\" borderopacity=\"1.0\" id=\"base\" inkscape:current-layer=\"svg2\" inkscape:cx=\"243.02499\" inkscape:cy=\"71.887497\" inkscape:pageopacity=\"0.0\" inkscape:pageshadow=\"2\" inkscape:window-height=\"543\" inkscape:window-width=\"791\" inkscape:window-x=\"0\" inkscape:window-y=\"0\" inkscape:zoom=\"1.4340089\" pagecolor=\"#ffffff\"/>\n",
       "  <defs id=\"defs4\">\n",
       "    <linearGradient id=\"linearGradient2795\">\n",
       "      <stop id=\"stop2797\" offset=\"0\" style=\"stop-color:#b8b8b8;stop-opacity:0.49803922\"/>\n",
       "      <stop id=\"stop2799\" offset=\"1\" style=\"stop-color:#7f7f7f;stop-opacity:0\"/>\n",
       "    </linearGradient>\n",
       "    <linearGradient id=\"linearGradient2787\">\n",
       "      <stop id=\"stop2789\" offset=\"0\" style=\"stop-color:#7f7f7f;stop-opacity:0.5\"/>\n",
       "      <stop id=\"stop2791\" offset=\"1\" style=\"stop-color:#7f7f7f;stop-opacity:0\"/>\n",
       "    </linearGradient>\n",
       "    <linearGradient id=\"linearGradient3676\">\n",
       "      <stop id=\"stop3678\" offset=\"0\" style=\"stop-color:#b2b2b2;stop-opacity:0.5\"/>\n",
       "      <stop id=\"stop3680\" offset=\"1\" style=\"stop-color:#b3b3b3;stop-opacity:0\"/>\n",
       "    </linearGradient>\n",
       "    <linearGradient id=\"linearGradient3236\">\n",
       "      <stop id=\"stop3244\" offset=\"0\" style=\"stop-color:#f4f4f4;stop-opacity:1\"/>\n",
       "      <stop id=\"stop3240\" offset=\"1\" style=\"stop-color:#ffffff;stop-opacity:1\"/>\n",
       "    </linearGradient>\n",
       "    <linearGradient id=\"linearGradient4671\">\n",
       "      <stop id=\"stop4673\" offset=\"0\" style=\"stop-color:#ffd43b;stop-opacity:1\"/>\n",
       "      <stop id=\"stop4675\" offset=\"1\" style=\"stop-color:#ffe873;stop-opacity:1\"/>\n",
       "    </linearGradient>\n",
       "    <linearGradient id=\"linearGradient4689\">\n",
       "      <stop id=\"stop4691\" offset=\"0\" style=\"stop-color:#5a9fd4;stop-opacity:1\"/>\n",
       "      <stop id=\"stop4693\" offset=\"1\" style=\"stop-color:#306998;stop-opacity:1\"/>\n",
       "    </linearGradient>\n",
       "    <linearGradient gradientTransform=\"translate(100.2702,99.61116)\" gradientUnits=\"userSpaceOnUse\" id=\"linearGradient2987\" x1=\"224.23996\" x2=\"-65.308502\" xlink:href=\"#linearGradient4671\" y1=\"144.75717\" y2=\"144.75717\"/>\n",
       "    <linearGradient gradientTransform=\"translate(100.2702,99.61116)\" gradientUnits=\"userSpaceOnUse\" id=\"linearGradient2990\" x1=\"172.94208\" x2=\"26.670298\" xlink:href=\"#linearGradient4689\" y1=\"77.475983\" y2=\"76.313133\"/>\n",
       "    <linearGradient gradientTransform=\"translate(100.2702,99.61116)\" gradientUnits=\"userSpaceOnUse\" id=\"linearGradient2587\" x1=\"172.94208\" x2=\"26.670298\" xlink:href=\"#linearGradient4689\" y1=\"77.475983\" y2=\"76.313133\"/>\n",
       "    <linearGradient gradientTransform=\"translate(100.2702,99.61116)\" gradientUnits=\"userSpaceOnUse\" id=\"linearGradient2589\" x1=\"224.23996\" x2=\"-65.308502\" xlink:href=\"#linearGradient4671\" y1=\"144.75717\" y2=\"144.75717\"/>\n",
       "    <linearGradient gradientTransform=\"translate(100.2702,99.61116)\" gradientUnits=\"userSpaceOnUse\" id=\"linearGradient2248\" x1=\"172.94208\" x2=\"26.670298\" xlink:href=\"#linearGradient4689\" y1=\"77.475983\" y2=\"76.313133\"/>\n",
       "    <linearGradient gradientTransform=\"translate(100.2702,99.61116)\" gradientUnits=\"userSpaceOnUse\" id=\"linearGradient2250\" x1=\"224.23996\" x2=\"-65.308502\" xlink:href=\"#linearGradient4671\" y1=\"144.75717\" y2=\"144.75717\"/>\n",
       "    <linearGradient gradientTransform=\"matrix(0.562541,0,0,0.567972,-11.5974,-7.60954)\" gradientUnits=\"userSpaceOnUse\" id=\"linearGradient2255\" x1=\"224.23996\" x2=\"-65.308502\" xlink:href=\"#linearGradient4671\" y1=\"144.75717\" y2=\"144.75717\"/>\n",
       "    <linearGradient gradientTransform=\"matrix(0.562541,0,0,0.567972,-11.5974,-7.60954)\" gradientUnits=\"userSpaceOnUse\" id=\"linearGradient2258\" x1=\"172.94208\" x2=\"26.670298\" xlink:href=\"#linearGradient4689\" y1=\"76.176224\" y2=\"76.313133\"/>\n",
       "    <radialGradient cx=\"61.518883\" cy=\"132.28575\" fx=\"61.518883\" fy=\"132.28575\" gradientTransform=\"matrix(1,0,0,0.177966,0,108.7434)\" gradientUnits=\"userSpaceOnUse\" id=\"radialGradient2801\" r=\"29.036913\" xlink:href=\"#linearGradient2795\"/>\n",
       "    <linearGradient gradientTransform=\"matrix(0.562541,0,0,0.567972,-9.399749,-5.305317)\" gradientUnits=\"userSpaceOnUse\" id=\"linearGradient1475\" x1=\"150.96111\" x2=\"112.03144\" xlink:href=\"#linearGradient4671\" y1=\"192.35176\" y2=\"137.27299\"/>\n",
       "    <linearGradient gradientTransform=\"matrix(0.562541,0,0,0.567972,-9.399749,-5.305317)\" gradientUnits=\"userSpaceOnUse\" id=\"linearGradient1478\" x1=\"26.648937\" x2=\"135.66525\" xlink:href=\"#linearGradient4689\" y1=\"20.603781\" y2=\"114.39767\"/>\n",
       "    <radialGradient cx=\"61.518883\" cy=\"132.28575\" fx=\"61.518883\" fy=\"132.28575\" gradientTransform=\"matrix(2.382716e-8,-0.296405,1.43676,4.683673e-7,-128.544,150.5202)\" gradientUnits=\"userSpaceOnUse\" id=\"radialGradient1480\" r=\"29.036913\" xlink:href=\"#linearGradient2795\"/>\n",
       "  </defs>\n",
       "  <g id=\"g2303\">\n",
       "    <path d=\"M 184.61344,61.929363 C 184.61344,47.367213 180.46118,39.891193 172.15666,39.481813 C 168.85239,39.325863 165.62611,39.852203 162.48754,41.070593 C 159.98254,41.967323 158.2963,42.854313 157.40931,43.751043 L 157.40931,78.509163 C 162.72147,81.842673 167.43907,83.392453 171.55234,83.148783 C 180.25649,82.573703 184.61344,75.507063 184.61344,61.929363 z M 194.85763,62.533683 C 194.85763,69.931723 193.12265,76.072393 189.63319,80.955683 C 185.7441,86.482283 180.35396,89.328433 173.46277,89.484393 C 168.26757,89.650093 162.91642,88.022323 157.40931,84.610843 L 157.40931,116.20116 L 148.50047,113.02361 L 148.50047,42.903043 C 149.96253,41.109583 151.84372,39.569543 154.12454,38.263433 C 159.42696,35.173603 165.86978,33.584823 173.45302,33.506853 L 173.57973,33.633563 C 180.50991,33.545833 185.85132,36.391993 189.60395,42.162263 C 193.10315,47.454933 194.85763,54.238913 194.85763,62.533683 z \" id=\"path46\" style=\"fill:#646464;fill-opacity:1\"/>\n",
       "    <path d=\"M 249.30487,83.265743 C 249.30487,93.188283 248.31067,100.05998 246.32227,103.88084 C 244.32411,107.7017 240.52275,110.75254 234.90842,113.02361 C 230.35653,114.81707 225.43425,115.79178 220.15133,115.95748 L 218.67952,110.34316 C 224.05016,109.61213 227.83204,108.88109 230.02513,108.15006 C 234.34309,106.688 237.30621,104.44617 238.93397,101.44406 C 240.24008,98.997543 240.88339,94.328693 240.88339,87.418003 L 240.88339,85.098203 C 234.79146,87.866373 228.40711,89.240713 221.73036,89.240713 C 217.34417,89.240713 213.47457,87.866373 210.14107,85.098203 C 206.39818,82.086343 204.52674,78.265483 204.52674,73.635623 L 204.52674,36.557693 L 213.43558,33.506853 L 213.43558,70.828453 C 213.43558,74.815013 214.7222,77.885353 217.29543,80.039463 C 219.86866,82.193563 223.20217,83.226753 227.2862,83.148783 C 231.37023,83.061053 235.74667,81.482023 240.39603,78.392203 L 240.39603,34.851953 L 249.30487,34.851953 L 249.30487,83.265743 z \" id=\"path48\" style=\"fill:#646464;fill-opacity:1\"/>\n",
       "    <path d=\"M 284.08249,88.997033 C 283.02006,89.084753 282.04535,89.123743 281.14862,89.123743 C 276.10937,89.123743 272.18129,87.924853 269.37413,85.517323 C 266.57671,83.109793 265.17314,79.786033 265.17314,75.546053 L 265.17314,40.456523 L 259.07146,40.456523 L 259.07146,34.851953 L 265.17314,34.851953 L 265.17314,19.968143 L 274.07223,16.800333 L 274.07223,34.851953 L 284.08249,34.851953 L 284.08249,40.456523 L 274.07223,40.456523 L 274.07223,75.302373 C 274.07223,78.645623 274.96896,81.014163 276.76243,82.398253 C 278.30247,83.538663 280.74899,84.191723 284.08249,84.357423 L 284.08249,88.997033 z \" id=\"path50\" style=\"fill:#646464;fill-opacity:1\"/>\n",
       "    <path d=\"M 338.02288,88.266003 L 329.11404,88.266003 L 329.11404,53.878273 C 329.11404,50.379063 328.29528,47.367213 326.66753,44.852463 C 324.78634,42.006313 322.17411,40.583233 318.82112,40.583233 C 314.73708,40.583233 309.6296,42.737343 303.4987,47.045563 L 303.4987,88.266003 L 294.58985,88.266003 L 294.58985,6.0687929 L 303.4987,3.2616329 L 303.4987,40.700203 C 309.191,36.557693 315.40963,34.481563 322.16436,34.481563 C 326.88196,34.481563 330.70282,36.070333 333.62694,39.238143 C 336.56082,42.405943 338.02288,46.353513 338.02288,51.071103 L 338.02288,88.266003 L 338.02288,88.266003 z \" id=\"path52\" style=\"fill:#646464;fill-opacity:1\"/>\n",
       "    <path d=\"M 385.37424,60.525783 C 385.37424,54.930953 384.31182,50.310833 382.19669,46.655673 C 379.68195,42.201253 375.77337,39.852203 370.49044,39.608523 C 360.72386,40.173863 355.85032,47.172273 355.85032,60.584263 C 355.85032,66.734683 356.86401,71.871393 358.91089,75.994413 C 361.52312,81.248093 365.44145,83.840823 370.66589,83.753103 C 380.47146,83.675123 385.37424,75.935933 385.37424,60.525783 z M 395.13109,60.584263 C 395.13109,68.547643 393.09395,75.175663 389.02941,80.468333 C 384.5555,86.394563 378.37584,89.367423 370.49044,89.367423 C 362.67328,89.367423 356.58135,86.394563 352.18541,80.468333 C 348.19885,75.175663 346.21044,68.547643 346.21044,60.584263 C 346.21044,53.098503 348.36455,46.801883 352.67276,41.674913 C 357.22466,36.236033 363.20937,33.506853 370.6074,33.506853 C 378.00545,33.506853 384.02914,36.236033 388.66877,41.674913 C 392.97697,46.801883 395.13109,53.098503 395.13109,60.584263 z \" id=\"path54\" style=\"fill:#646464;fill-opacity:1\"/>\n",
       "    <path d=\"M 446.20583,88.266003 L 437.29699,88.266003 L 437.29699,51.928853 C 437.29699,47.942293 436.0981,44.832973 433.70032,42.591133 C 431.30253,40.359053 428.10549,39.277123 424.11893,39.364853 C 419.8887,39.442833 415.86314,40.826913 412.04229,43.507363 L 412.04229,88.266003 L 403.13345,88.266003 L 403.13345,42.405943 C 408.26042,38.672813 412.97801,36.236033 417.28621,35.095623 C 421.35076,34.033193 424.93769,33.506853 428.02752,33.506853 C 430.14264,33.506853 432.13104,33.711543 434.00248,34.120913 C 437.50169,34.929923 440.34783,36.430973 442.54093,38.633823 C 444.98744,41.070593 446.20583,43.994723 446.20583,47.415943 L 446.20583,88.266003 z \" id=\"path56\" style=\"fill:#646464;fill-opacity:1\"/>\n",
       "    <path d=\"M 60.510156,6.3979729 C 55.926503,6.4192712 51.549217,6.8101906 47.697656,7.4917229 C 36.35144,9.4962267 34.291407,13.691825 34.291406,21.429223 L 34.291406,31.647973 L 61.103906,31.647973 L 61.103906,35.054223 L 34.291406,35.054223 L 24.228906,35.054223 C 16.436447,35.054223 9.6131468,39.73794 7.4789058,48.647973 C 5.0170858,58.860939 4.9078907,65.233996 7.4789058,75.897973 C 9.3848341,83.835825 13.936449,89.491721 21.728906,89.491723 L 30.947656,89.491723 L 30.947656,77.241723 C 30.947656,68.391821 38.6048,60.585475 47.697656,60.585473 L 74.478906,60.585473 C 81.933857,60.585473 87.885159,54.447309 87.885156,46.960473 L 87.885156,21.429223 C 87.885156,14.162884 81.755176,8.7044455 74.478906,7.4917229 C 69.872919,6.7249976 65.093809,6.3766746 60.510156,6.3979729 z M 46.010156,14.616723 C 48.779703,14.616723 51.041406,16.915369 51.041406,19.741723 C 51.041404,22.558059 48.779703,24.835473 46.010156,24.835473 C 43.23068,24.835472 40.978906,22.558058 40.978906,19.741723 C 40.978905,16.91537 43.23068,14.616723 46.010156,14.616723 z \" id=\"path1948\" style=\"fill:url(#linearGradient1478);fill-opacity:1\"/>\n",
       "    <path d=\"M 91.228906,35.054223 L 91.228906,46.960473 C 91.228906,56.191228 83.403011,63.960472 74.478906,63.960473 L 47.697656,63.960473 C 40.361823,63.960473 34.291407,70.238956 34.291406,77.585473 L 34.291406,103.11672 C 34.291406,110.38306 40.609994,114.65704 47.697656,116.74172 C 56.184987,119.23733 64.323893,119.68835 74.478906,116.74172 C 81.229061,114.78733 87.885159,110.85411 87.885156,103.11672 L 87.885156,92.897973 L 61.103906,92.897973 L 61.103906,89.491723 L 87.885156,89.491723 L 101.29141,89.491723 C 109.08387,89.491723 111.98766,84.056315 114.69765,75.897973 C 117.49698,67.499087 117.37787,59.422197 114.69765,48.647973 C 112.77187,40.890532 109.09378,35.054223 101.29141,35.054223 L 91.228906,35.054223 z M 76.166406,99.710473 C 78.945884,99.710476 81.197656,101.98789 81.197656,104.80422 C 81.197654,107.63057 78.945881,109.92922 76.166406,109.92922 C 73.396856,109.92922 71.135156,107.63057 71.135156,104.80422 C 71.135158,101.98789 73.396853,99.710473 76.166406,99.710473 z \" id=\"path1950\" style=\"fill:url(#linearGradient1475);fill-opacity:1\"/>\n",
       "    <path d=\"M 463.5544,26.909383 L 465.11635,26.909383 L 465.11635,17.113143 L 468.81648,17.113143 L 468.81648,15.945483 L 459.85427,15.945483 L 459.85427,17.113143 L 463.5544,17.113143 L 463.5544,26.909383 M 470.20142,26.909383 L 471.53589,26.909383 L 471.53589,17.962353 L 474.4323,26.908259 L 475.91799,26.908259 L 478.93615,17.992683 L 478.93615,26.909383 L 480.39194,26.909383 L 480.39194,15.945483 L 478.46605,15.945483 L 475.16774,25.33834 L 472.35477,15.945483 L 470.20142,15.945483 L 470.20142,26.909383\" id=\"text3004\" style=\"font-size:15.16445827px;font-style:normal;font-weight:normal;line-height:125%;fill:#646464;fill-opacity:1;stroke:none;stroke-width:1px;stroke-linecap:butt;stroke-linejoin:miter;stroke-opacity:1;font-family:Bitstream Vera Sans\"/>\n",
       "    <path d=\"M 110.46717 132.28575 A 48.948284 8.6066771 0 1 1  12.570599,132.28575 A 48.948284 8.6066771 0 1 1  110.46717 132.28575 z\" id=\"path1894\" style=\"opacity:0.44382019;fill:url(#radialGradient1480);fill-opacity:1;fill-rule:nonzero;stroke:none;stroke-width:20;stroke-miterlimit:4;stroke-dasharray:none;stroke-opacity:1\" transform=\"matrix(0.73406,0,0,0.809524,16.24958,27.00935)\"/>\n",
       "  </g>\n",
       "</svg>"
      ],
      "text/plain": [
       "<IPython.core.display.SVG object>"
      ]
     },
     "execution_count": 18,
     "metadata": {},
     "output_type": "execute_result"
    }
   ],
   "source": [
    "from IPython.display import SVG\n",
    "SVG(filename='images/python_logo.svg')"
   ]
  },
  {
   "cell_type": "markdown",
   "metadata": {},
   "source": [
    "An image can also be displayed from raw data or a URL."
   ]
  },
  {
   "cell_type": "code",
   "execution_count": 19,
   "metadata": {
    "collapsed": false
   },
   "outputs": [
    {
     "data": {
      "text/html": [
       "<img src=\"http://python.org/images/python-logo.gif\"/>"
      ],
      "text/plain": [
       "<IPython.core.display.Image object>"
      ]
     },
     "execution_count": 19,
     "metadata": {},
     "output_type": "execute_result"
    }
   ],
   "source": [
    "Image(url='http://python.org/images/python-logo.gif')"
   ]
  },
  {
   "cell_type": "markdown",
   "metadata": {},
   "source": [
    "#### HTML\n",
    "\n",
    "Python objects can declare HTML representations that will be displayed in the Notebook. Use the **`HTML`** class to display some HTML."
   ]
  },
  {
   "cell_type": "code",
   "execution_count": 20,
   "metadata": {
    "collapsed": true
   },
   "outputs": [],
   "source": [
    "from IPython.display import HTML"
   ]
  },
  {
   "cell_type": "code",
   "execution_count": 21,
   "metadata": {
    "collapsed": false
   },
   "outputs": [
    {
     "data": {
      "text/html": [
       "\n",
       "<table>\n",
       "<tr>\n",
       "<th>Header 1</th>\n",
       "<th>Header 2</th>\n",
       "</tr>\n",
       "<tr>\n",
       "<td>11</td>\n",
       "<td>12</td>\n",
       "</tr>\n",
       "<tr>\n",
       "<td>21</td>\n",
       "<td>22</td>\n",
       "</tr>\n",
       "</table>"
      ],
      "text/plain": [
       "<IPython.core.display.HTML object>"
      ]
     },
     "metadata": {},
     "output_type": "display_data"
    }
   ],
   "source": [
    "table = \"\"\"\n",
    "<table>\n",
    "<tr>\n",
    "<th>Header 1</th>\n",
    "<th>Header 2</th>\n",
    "</tr>\n",
    "<tr>\n",
    "<td>11</td>\n",
    "<td>12</td>\n",
    "</tr>\n",
    "<tr>\n",
    "<td>21</td>\n",
    "<td>22</td>\n",
    "</tr>\n",
    "</table>\"\"\"\n",
    "\n",
    "h = HTML(table)\n",
    "display(h)"
   ]
  },
  {
   "cell_type": "markdown",
   "metadata": {},
   "source": [
    "The same thing can be accomplished using the **`%%html`** cell magic:"
   ]
  },
  {
   "cell_type": "code",
   "execution_count": 22,
   "metadata": {
    "collapsed": false
   },
   "outputs": [
    {
     "data": {
      "text/html": [
       "<table>\n",
       "<tr>\n",
       "<th>Header 1</th>\n",
       "<th>Header 2</th>\n",
       "</tr>\n",
       "<tr>\n",
       "<td>11</td>\n",
       "<td>12</td>\n",
       "</tr>\n",
       "<tr>\n",
       "<td>21</td>\n",
       "<td>22</td>\n",
       "</tr>\n",
       "</table>"
      ],
      "text/plain": [
       "<IPython.core.display.HTML object>"
      ]
     },
     "metadata": {},
     "output_type": "display_data"
    }
   ],
   "source": [
    "%%html\n",
    "<table>\n",
    "<tr>\n",
    "<th>Header 1</th>\n",
    "<th>Header 2</th>\n",
    "</tr>\n",
    "<tr>\n",
    "<td>11</td>\n",
    "<td>12</td>\n",
    "</tr>\n",
    "<tr>\n",
    "<td>21</td>\n",
    "<td>22</td>\n",
    "</tr>\n",
    "</table>"
   ]
  },
  {
   "cell_type": "markdown",
   "metadata": {},
   "source": [
    "#### JavaScript\n",
    "\n",
    "The Notebook also enables objects to declare a JavaScript representation."
   ]
  },
  {
   "cell_type": "code",
   "execution_count": 23,
   "metadata": {
    "collapsed": true
   },
   "outputs": [],
   "source": [
    "from IPython.display import Javascript"
   ]
  },
  {
   "cell_type": "code",
   "execution_count": 24,
   "metadata": {
    "collapsed": false
   },
   "outputs": [],
   "source": [
    "# uncomment to run\n",
    "# jsmssg = Javascript('alert(\"Hello world!\")');  \n",
    "# display(jsmssg)"
   ]
  },
  {
   "cell_type": "markdown",
   "metadata": {},
   "source": [
    "#### LaTeX\n",
    "\n",
    "The IPython display system also has builtin support for the display of mathematical expressions typeset in $\\LaTeX$, which is rendered in the browser using [MathJax](http://mathjax.org/). Raw LaTeX text can be passed as a string to the `Math` object:"
   ]
  },
  {
   "cell_type": "code",
   "execution_count": 25,
   "metadata": {
    "collapsed": true
   },
   "outputs": [],
   "source": [
    "from IPython.display import Math"
   ]
  },
  {
   "cell_type": "code",
   "execution_count": 26,
   "metadata": {
    "collapsed": false
   },
   "outputs": [
    {
     "data": {
      "text/latex": [
       "$$F(k) = \\int_{-\\infty}^{\\infty} f(x) e^{2\\pi i k} dx$$"
      ],
      "text/plain": [
       "<IPython.core.display.Math object>"
      ]
     },
     "execution_count": 26,
     "metadata": {},
     "output_type": "execute_result"
    }
   ],
   "source": [
    "Math(r'F(k) = \\int_{-\\infty}^{\\infty} f(x) e^{2\\pi i k} dx')"
   ]
  },
  {
   "cell_type": "markdown",
   "metadata": {},
   "source": [
    "The delimiters can be included with the `Latex` class, so other $\\LaTeX$ modes such as `eqnarray` can also be used:"
   ]
  },
  {
   "cell_type": "code",
   "execution_count": 27,
   "metadata": {
    "collapsed": false
   },
   "outputs": [
    {
     "data": {
      "text/latex": [
       "\\begin{eqnarray}\n",
       "\\nabla \\times \\vec{\\mathbf{B}} -\\, \\frac1c\\, \\frac{\\partial\\vec{\\mathbf{E}}}{\\partial t} \n",
       "& = \\frac{4\\pi}{c}\\vec{\\mathbf{j}} \\\\\n",
       "\\nabla \\cdot \\vec{\\mathbf{E}} \n",
       "& = 4 \\pi \\rho \\\\\n",
       "\\nabla \\times \\vec{\\mathbf{E}}\\, +\\, \\frac1c\\, \\frac{\\partial\\vec{\\mathbf{B}}}{\\partial t} \n",
       "& = \\vec{\\mathbf{0}} \\\\\n",
       "\\nabla \\cdot \\vec{\\mathbf{B}} \n",
       "& = 0 \n",
       "\\end{eqnarray}"
      ],
      "text/plain": [
       "<IPython.core.display.Latex object>"
      ]
     },
     "execution_count": 27,
     "metadata": {},
     "output_type": "execute_result"
    }
   ],
   "source": [
    "from IPython.display import Latex\n",
    "Latex(r\"\"\"\\begin{eqnarray}\n",
    "\\nabla \\times \\vec{\\mathbf{B}} -\\, \\frac1c\\, \\frac{\\partial\\vec{\\mathbf{E}}}{\\partial t} \n",
    "& = \\frac{4\\pi}{c}\\vec{\\mathbf{j}} \\\\\n",
    "\\nabla \\cdot \\vec{\\mathbf{E}} \n",
    "& = 4 \\pi \\rho \\\\\n",
    "\\nabla \\times \\vec{\\mathbf{E}}\\, +\\, \\frac1c\\, \\frac{\\partial\\vec{\\mathbf{B}}}{\\partial t} \n",
    "& = \\vec{\\mathbf{0}} \\\\\n",
    "\\nabla \\cdot \\vec{\\mathbf{B}} \n",
    "& = 0 \n",
    "\\end{eqnarray}\"\"\")"
   ]
  },
  {
   "cell_type": "markdown",
   "metadata": {},
   "source": [
    "The same thing can be accomplished using the **`%%latex`** cell magic:"
   ]
  },
  {
   "cell_type": "code",
   "execution_count": 28,
   "metadata": {
    "collapsed": false
   },
   "outputs": [
    {
     "data": {
      "text/latex": [
       "\\begin{align}\n",
       "\\nabla \\times \\vec{\\mathbf{B}} -\\, \\frac1c\\, \\frac{\\partial\\vec{\\mathbf{E}}}{\\partial t} \n",
       "& = \\frac{4\\pi}{c}\\vec{\\mathbf{j}} \\\\\n",
       "\\nabla \\cdot \\vec{\\mathbf{E}} \n",
       "& = 4 \\pi \\rho \\\\\n",
       "\\nabla \\times \\vec{\\mathbf{E}}\\, +\\, \\frac1c\\, \\frac{\\partial\\vec{\\mathbf{B}}}{\\partial t} \n",
       "& = \\vec{\\mathbf{0}} \\\\\n",
       "\\nabla \\cdot \\vec{\\mathbf{B}} \n",
       "& = 0\n",
       "\\end{align}"
      ],
      "text/plain": [
       "<IPython.core.display.Latex object>"
      ]
     },
     "metadata": {},
     "output_type": "display_data"
    }
   ],
   "source": [
    "%%latex\n",
    "\\begin{align}\n",
    "\\nabla \\times \\vec{\\mathbf{B}} -\\, \\frac1c\\, \\frac{\\partial\\vec{\\mathbf{E}}}{\\partial t} \n",
    "& = \\frac{4\\pi}{c}\\vec{\\mathbf{j}} \\\\\n",
    "\\nabla \\cdot \\vec{\\mathbf{E}} \n",
    "& = 4 \\pi \\rho \\\\\n",
    "\\nabla \\times \\vec{\\mathbf{E}}\\, +\\, \\frac1c\\, \\frac{\\partial\\vec{\\mathbf{B}}}{\\partial t} \n",
    "& = \\vec{\\mathbf{0}} \\\\\n",
    "\\nabla \\cdot \\vec{\\mathbf{B}} \n",
    "& = 0\n",
    "\\end{align}"
   ]
  },
  {
   "cell_type": "markdown",
   "metadata": {},
   "source": [
    "#### Audio\n",
    "\n",
    "Use the `Audio` display class to create an audio control that is embedded in the Notebook. The interface is analogous to the interface of the `Image` display class. All audio formats supported by the browser can be used; however, no single format is presently supported in all browsers."
   ]
  },
  {
   "cell_type": "code",
   "execution_count": 29,
   "metadata": {
    "collapsed": false
   },
   "outputs": [
    {
     "data": {
      "text/html": [
       "\n",
       "                <audio controls=\"controls\" >\n",
       "                    <source src=\"http://www.nch.com.au/acm/8k16bitpcm.wav\" type=\"audio/wav\" />\n",
       "                    Your browser does not support the audio element.\n",
       "                </audio>\n",
       "              "
      ],
      "text/plain": [
       "<IPython.lib.display.Audio object>"
      ]
     },
     "execution_count": 29,
     "metadata": {},
     "output_type": "execute_result"
    }
   ],
   "source": [
    "from IPython.display import Audio\n",
    "Audio(url=\"http://www.nch.com.au/acm/8k16bitpcm.wav\")"
   ]
  },
  {
   "cell_type": "markdown",
   "metadata": {},
   "source": [
    "#### Video\n",
    "\n",
    "More objects can also be displayed in the Notebook, as long as their representation supports the IPython `display` protocol. For example, videos hosted externally on YouTube are easy to load:"
   ]
  },
  {
   "cell_type": "code",
   "execution_count": 30,
   "metadata": {
    "collapsed": false
   },
   "outputs": [
    {
     "data": {
      "image/jpeg": "[encoded data removed]",
      "text/html": [
       "\n",
       "        <iframe\n",
       "            width=\"400\"\n",
       "            height=\"300\"\n",
       "            src=\"https://www.youtube.com/embed/sjfsUzECqK0\"\n",
       "            frameborder=\"0\"\n",
       "            allowfullscreen\n",
       "        ></iframe>\n",
       "        "
      ],
      "text/plain": [
       "<IPython.lib.display.YouTubeVideo at 0x19aefa207f0>"
      ]
     },
     "execution_count": 30,
     "metadata": {},
     "output_type": "execute_result"
    }
   ],
   "source": [
    "from IPython.display import YouTubeVideo\n",
    "YouTubeVideo('sjfsUzECqK0')"
   ]
  },
  {
   "cell_type": "markdown",
   "metadata": {},
   "source": [
    "#### External sites\n",
    "\n",
    "An entire page from another site can be embedded in an `IFrame`."
   ]
  },
  {
   "cell_type": "code",
   "execution_count": 31,
   "metadata": {
    "collapsed": false
   },
   "outputs": [
    {
     "data": {
      "text/html": [
       "\n",
       "        <iframe\n",
       "            width=\"100%\"\n",
       "            height=\"350\"\n",
       "            src=\"http://jupyter.org\"\n",
       "            frameborder=\"0\"\n",
       "            allowfullscreen\n",
       "        ></iframe>\n",
       "        "
      ],
      "text/plain": [
       "<IPython.lib.display.IFrame at 0x19aefa47a58>"
      ]
     },
     "execution_count": 31,
     "metadata": {},
     "output_type": "execute_result"
    }
   ],
   "source": [
    "from IPython.display import IFrame\n",
    "IFrame('http://jupyter.org', width='100%', height=350)"
   ]
  },
  {
   "cell_type": "markdown",
   "metadata": {},
   "source": [
    "#### Links to local files\n",
    "\n",
    "IPython provides builtin display classes for generating links to local files. \n",
    "\n",
    "- Use the `FileLink` object to create a link to a single file. \n",
    "- Alternatively, use `FileLinks('.')` to generate links to all of the files in the current working directory and all its sub-directories, if any."
   ]
  },
  {
   "cell_type": "code",
   "execution_count": 32,
   "metadata": {
    "collapsed": false
   },
   "outputs": [
    {
     "data": {
      "text/html": [
       "<a href='input/xf_test_jupyter.ipynb' target='_blank'>input/xf_test_jupyter.ipynb</a><br>"
      ],
      "text/plain": [
       "C:\\Users\\LeonFelipe\\Dropbox\\Apps\\Jupyter\\Jupyter_Python\\prj_jupyter_essentials\\input\\xf_test_jupyter.ipynb"
      ]
     },
     "execution_count": 32,
     "metadata": {},
     "output_type": "execute_result"
    }
   ],
   "source": [
    "from IPython.display import FileLink, FileLinks\n",
    "FileLink('input/xf_test_jupyter.ipynb')"
   ]
  },
  {
   "cell_type": "markdown",
   "metadata": {},
   "source": [
    "#### Rich output, security, and nbviewer\n",
    "\n",
    "The IPython Notebook allows arbitrary code execution in both the IPython kernel and in the browser, through HTML and JavaScript output. More importantly, because IPython has a JavaScript API for running code in the browser, HTML and JavaScript output can actually trigger code to be run in the kernel. This poses a significant security risk as it would allow IPython Notebooks to execute arbitrary code on your computers.\n",
    "\n",
    "To protect against these risks, the IPython Notebook has a [security model](http://ipython.org/ipython-doc/dev/notebook/security.html) that specifies how dangerous output is handled. Here is a short summary:\n",
    "\n",
    "- When running code in the Notebook, all rich output is displayed.\n",
    "- When opening a Notebook, rich output is only displayed if it doesn't contain security vulnerabilities or if the Notebook is a trusted Notebook.\n",
    "\n",
    "Much of the power of the Notebook is that it enables users to share notebooks with each other using http://nbviewer.ipython.org, without installing IPython locally. As of IPython 2.0, notebooks rendered on nbviewer will display all output, including HTML and JavaScript. Furthermore, to provide a consistent JavaScript environment on the live Notebook and nbviewer, the [jQuery](http://jquery.com/) and [RequireJS](http://requirejs.org/) JavaScript libraries are loaded onto the `nbviewer` page, before the notebook and its output is displayed."
   ]
  },
  {
   "cell_type": "markdown",
   "metadata": {},
   "source": [
    "### Plotting with Matplotlib\n",
    "\n",
    "IPython works with the [Matplotlib](http://matplotlib.org/) plotting library, which integrates Matplotlib with IPython's display system and event loop handling.\n",
    "\n",
    "Use the **`%matplotlib`** magic command to enable plotting in the current Notebook:\n",
    "- Use `%matplotlib inline` to embed plots inside the Notebook.\n",
    "- Use `%matplotlib notebook` to get interactive panning and zooming of matplotlib figures in the browser."
   ]
  },
  {
   "cell_type": "code",
   "execution_count": 33,
   "metadata": {
    "collapsed": true
   },
   "outputs": [],
   "source": [
    "%matplotlib inline\n",
    "import numpy as np\n",
    "import matplotlib.pyplot as plt"
   ]
  },
  {
   "cell_type": "code",
   "execution_count": 34,
   "metadata": {
    "collapsed": false,
    "scrolled": true
   },
   "outputs": [
    {
     "data": {
      "image/png": "[encoded data removed]",
      "text/plain": [
       "<matplotlib.figure.Figure at 0x19aefa20048>"
      ]
     },
     "metadata": {},
     "output_type": "display_data"
    }
   ],
   "source": [
    "x = np.linspace(0, 3*np.pi, 500)\n",
    "plt.plot(x, np.sin(x**2))\n",
    "plt.title('A simple chirp');"
   ]
  },
  {
   "cell_type": "code",
   "execution_count": 35,
   "metadata": {
    "collapsed": true
   },
   "outputs": [],
   "source": [
    "# %matplotlib notebook"
   ]
  },
  {
   "cell_type": "code",
   "execution_count": 36,
   "metadata": {
    "collapsed": false
   },
   "outputs": [
    {
     "data": {
      "image/png": "[encoded data removed]",
      "text/plain": [
       "<matplotlib.figure.Figure at 0x19aefab9630>"
      ]
     },
     "metadata": {},
     "output_type": "display_data"
    }
   ],
   "source": [
    "plt.figure()\n",
    "x = np.linspace(0, 5 * np.pi, 1000)\n",
    "for n in range(1, 4):\n",
    "    plt.plot(np.sin(n * x))\n",
    "plt.show()"
   ]
  },
  {
   "cell_type": "markdown",
   "metadata": {},
   "source": [
    "## Interactive Widgets\n",
    "\n",
    "IPython includes an architecture for [interactive widgets](http://nbviewer.jupyter.org/github/ipython/ipython/blob/3.x/examples/Interactive%20Widgets/Index.ipynb) that tie together Python code running in the kernel and JavaScript/HTML/CSS running in the browser. These widgets enable users to explore their code and data interactively."
   ]
  },
  {
   "cell_type": "markdown",
   "metadata": {},
   "source": [
    "### Using interact\n",
    "\n",
    "The **`interact`** function (from `ipywidgets`) automatically creates user interface (UI) controls for exploring code and data interactively. It is the easiest way to get started using IPython's widgets."
   ]
  },
  {
   "cell_type": "code",
   "execution_count": 37,
   "metadata": {
    "collapsed": false
   },
   "outputs": [],
   "source": [
    "from ipywidgets import interact, interactive, fixed, widgets"
   ]
  },
  {
   "cell_type": "markdown",
   "metadata": {},
   "source": [
    "At the most basic level, `interact` autogenerates UI controls for function arguments, and then calls a user-defined  function with those arguments when manipulating the controls interactively to explore the function."
   ]
  },
  {
   "cell_type": "code",
   "execution_count": 38,
   "metadata": {
    "collapsed": true
   },
   "outputs": [],
   "source": [
    "def f(x):\n",
    "    print('x^2: {}'.format(x**2))"
   ]
  },
  {
   "cell_type": "markdown",
   "metadata": {},
   "source": [
    "When passing this function as the first argument to interact along with an integer keyword argument (x=10), a slider is generated and bound to the function. When the slider is moved, the function is called and the current value of `x` is printed."
   ]
  },
  {
   "cell_type": "code",
   "execution_count": 39,
   "metadata": {
    "collapsed": false
   },
   "outputs": [
    {
     "name": "stdout",
     "output_type": "stream",
     "text": [
      "x^2: 100\n"
     ]
    }
   ],
   "source": [
    "interact(f, x=10);"
   ]
  },
  {
   "cell_type": "markdown",
   "metadata": {},
   "source": [
    "`interact` can also be used as a decorator to make it possible to define a function and interact with it in a single shot."
   ]
  },
  {
   "cell_type": "code",
   "execution_count": 40,
   "metadata": {
    "collapsed": false
   },
   "outputs": [
    {
     "name": "stdout",
     "output_type": "stream",
     "text": [
      "x*y: 5.0\n"
     ]
    }
   ],
   "source": [
    "@interact(x=5, y=1.0)\n",
    "def g(x, y):\n",
    "    print('x*y: {}'.format(x*y))"
   ]
  },
  {
   "cell_type": "markdown",
   "metadata": {},
   "source": [
    "One or more of the function arguments can also be fixed to specific values. In this case, a slider is only produced for the variables that are not fixed."
   ]
  },
  {
   "cell_type": "code",
   "execution_count": 41,
   "metadata": {
    "collapsed": false
   },
   "outputs": [
    {
     "name": "stdout",
     "output_type": "stream",
     "text": [
      "x*y: 100.0\n"
     ]
    }
   ],
   "source": [
    "interact(g, x=20, y=fixed(5.0));"
   ]
  },
  {
   "cell_type": "markdown",
   "metadata": {},
   "source": [
    "Use the **`IntSlider`/`FloatSlider`** widgets as keyword arguments for a given function parameter to specify values for the parameter's `min`, `max`, `step`, and `initial` values."
   ]
  },
  {
   "cell_type": "code",
   "execution_count": 42,
   "metadata": {
    "collapsed": false
   },
   "outputs": [
    {
     "name": "stdout",
     "output_type": "stream",
     "text": [
      "x^2: 0\n"
     ]
    }
   ],
   "source": [
    "interact(f, x=widgets.IntSlider(min=-50,max=50,step=1,value=0));"
   ]
  },
  {
   "cell_type": "markdown",
   "metadata": {},
   "source": [
    "The same thing can be accomplished by passing a tuple containing `(min,max,step)` values to the desired parameters."
   ]
  },
  {
   "cell_type": "code",
   "execution_count": 43,
   "metadata": {
    "collapsed": false
   },
   "outputs": [
    {
     "name": "stdout",
     "output_type": "stream",
     "text": [
      "x*y: 0.0\n"
     ]
    }
   ],
   "source": [
    "interact(g, x=(0,8,2), y=(-10.0,10.0,1.0));"
   ]
  },
  {
   "cell_type": "markdown",
   "metadata": {},
   "source": [
    "A decorator can also be used to simplify notation and set an initial value for the widget."
   ]
  },
  {
   "cell_type": "code",
   "execution_count": 44,
   "metadata": {
    "collapsed": false
   },
   "outputs": [
    {
     "name": "stdout",
     "output_type": "stream",
     "text": [
      "5.5\n"
     ]
    }
   ],
   "source": [
    "@interact(x=(0.0,20.0,0.5))\n",
    "def h(x=5.5):\n",
    "    print(x)"
   ]
  },
  {
   "cell_type": "markdown",
   "metadata": {},
   "source": [
    "Pass a dictionary to obtain a dropdown menu that passes non-string values to the Python function. The dictionary keys are used for the names in the dropdown menu UI and the values are the arguments that are passed to the underlying Python function."
   ]
  },
  {
   "cell_type": "code",
   "execution_count": 45,
   "metadata": {
    "collapsed": false
   },
   "outputs": [
    {
     "name": "stdout",
     "output_type": "stream",
     "text": [
      "x^2: 100\n"
     ]
    }
   ],
   "source": [
    "interact(f, x={'one': 10, 'two': 20});"
   ]
  },
  {
   "cell_type": "markdown",
   "metadata": {},
   "source": [
    "If a string is passed, `interact` will generate a text area or a dropdown menu, depending on how many string arguments are passed."
   ]
  },
  {
   "cell_type": "code",
   "execution_count": 46,
   "metadata": {
    "collapsed": false
   },
   "outputs": [
    {
     "data": {
      "text/plain": [
       "'a'"
      ]
     },
     "metadata": {},
     "output_type": "display_data"
    }
   ],
   "source": [
    "def first_letter(S):\n",
    "    return S[0]\n",
    "\n",
    "interact(first_letter, S=('apples','oranges'));"
   ]
  },
  {
   "cell_type": "markdown",
   "metadata": {},
   "source": [
    "## Extensions"
   ]
  },
  {
   "cell_type": "markdown",
   "metadata": {},
   "source": [
    "The Jupyter notebook extensions repository contains a collection of extensions that add functionality to the Jupyter notebook. These extensions are mostly written in Javascript and are loaded locally in your browser.\n",
    "\n",
    "The easiest way to install the collection of Jupyter extensions is using `pip`, from the current master. In the command line, enter\n",
    "\n",
    "---\n",
    "\n",
    "`pip install https://github.com/ipython-contrib/IPython-notebook-extensions/archive/master.zip --user` *(or use* `--upgrade` *to upgrade)*\n",
    "\n",
    "---\n",
    "\n",
    "When using the Anaconda Python installation (highly recommended), you can install the package using \n",
    "\n",
    "---\n",
    "\n",
    "`conda install -c https://conda.binstar.org/juhasch nbextensions`\n",
    "\n",
    "---\n",
    "\n",
    "After installation, simply go to the `/nbextensions/` page in the notebook to activate/deactivate individual extensions (e.g., `http://localhost:8888/nbextensions/`).\n",
    "\n",
    "For more information, go to [IPython-notebook-extensions\n",
    "](https://github.com/ipython-contrib/IPython-notebook-extensions) on GitHub or refer to the local [`nbextensions` `readme.md`](http://localhost:8889/nbextensions/config/rendermd/nbextensions/config/readme.md) file."
   ]
  },
  {
   "cell_type": "code",
   "execution_count": null,
   "metadata": {
    "collapsed": true
   },
   "outputs": [],
   "source": []
  }
 ],
 "metadata": {
  "kernelspec": {
   "display_name": "Python 3",
   "language": "python",
   "name": "python3"
  },
  "language_info": {
   "codemirror_mode": {
    "name": "ipython",
    "version": 3
   },
   "file_extension": ".py",
   "mimetype": "text/x-python",
   "name": "python",
   "nbconvert_exporter": "python",
   "pygments_lexer": "ipython3",
   "version": "3.5.1"
  },
  "latex_envs": {
   "bibliofile": "biblio.bib",
   "cite_by": "apalike",
   "current_citInitial": 1,
   "eqLabelWithNumbers": true,
   "eqNumInitial": 0
  },
  "toc": {
   "toc_cell": true,
   "toc_number_sections": false,
   "toc_section_display": "block",
   "toc_threshold": 4,
   "toc_window_display": true
  },
  "toc_position": {
   "left": "2074.5px",
   "right": "624.45px",
   "top": "9px",
   "width": "237px"
  }
 },
 "nbformat": 4,
 "nbformat_minor": 0
}
